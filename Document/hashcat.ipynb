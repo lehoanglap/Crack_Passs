{
  "nbformat": 4,
  "nbformat_minor": 0,
  "metadata": {
    "colab": {
      "name": "hashcat.ipynb",
      "provenance": [],
      "collapsed_sections": []
    },
    "kernelspec": {
      "name": "python3",
      "display_name": "Python 3"
    },
    "accelerator": "GPU"
  },
  "cells": [
    {
      "cell_type": "markdown",
      "metadata": {
        "id": "7L4awCpQ8PZl"
      },
      "source": [
        "#Cài hashcat"
      ]
    },
    {
      "cell_type": "code",
      "metadata": {
        "id": "PletES93743j"
      },
      "source": [
        "!nvidia-smi"
      ],
      "execution_count": null,
      "outputs": []
    },
    {
      "cell_type": "code",
      "metadata": {
        "id": "Z9hkHh1q762J"
      },
      "source": [
        "!apt install cmake build-essential -y && apt install checkinstall git -y && git clone https://github.com/hashcat/hashcat.git && cd hashcat && git submodule update --init && make && make install"
      ],
      "execution_count": null,
      "outputs": []
    },
    {
      "cell_type": "markdown",
      "metadata": {
        "id": "qJFDNJF99ja7"
      },
      "source": [
        "Tải file Hccapx"
      ]
    },
    {
      "cell_type": "code",
      "metadata": {
        "id": "mYJARnse9ToX"
      },
      "source": [
        "!git clone https://github.com/lehoanglap/Crack_Passs.git && cd Crack_Passs/File_Hccapx && ls && pwd"
      ],
      "execution_count": null,
      "outputs": []
    },
    {
      "cell_type": "code",
      "metadata": {
        "id": "_GQSuoPs90I8"
      },
      "source": [
        "!hashcat -m 2500 /content/Crack_Passs/File_Hccapx/khong_co_wifi.hccapx -i --increment-min=8 --increment-max=8 -a 3 -w 3 '?d?d?d?d?d?d?d?d'"
      ],
      "execution_count": null,
      "outputs": []
    }
  ]
}